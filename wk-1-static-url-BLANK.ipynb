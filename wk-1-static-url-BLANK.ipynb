{
 "cells": [
  {
   "cell_type": "markdown",
   "metadata": {
    "id": "LZWzjibG692-"
   },
   "source": [
    "# Scraping a fixed URL site\n",
    "\n",
    "We'll often encounter website where the url never changes. Here are a few examples: \n",
    "\n",
    "- <a href=\"https://eportal.miteco.gob.es/BoleHWeb/\">Ministry for the Ecological Transition and the Demographic Challenge</a>.\n",
    "- <a href=\"https://www.seethroughny.net/\">See Through NY</a> \n",
    "- <a href=\"https://restructuring.ra.kroll.com/pge/Home-ClaimInfo\">PG&E fire victim creditors</a>\n",
    "\n",
    "From <a href=\"https://infopost.enbridge.com/InfoPost/\">this homepage</a>, we want to scrape the critical notices for the Algonquin Gas Transmission.\n",
    "\n",
    "Let's explore the site to come up with our scrape strategy.\n"
   ]
  },
  {
   "cell_type": "code",
   "execution_count": 1,
   "metadata": {
    "id": "CprbufAw6-nw"
   },
   "outputs": [],
   "source": [
    "## import libraries\n",
    "\n",
    "import requests\n",
    "import pandas as pd"
   ]
  },
  {
   "cell_type": "code",
   "execution_count": 2,
   "metadata": {
    "id": "VGmuLnuD7C1r"
   },
   "outputs": [],
   "source": [
    "##target url\n",
    "\n",
    "url = \"https://infopost.enbridge.com/InfoPost/NoticesList.asp?pipe=AG&type=CRI\""
   ]
  },
  {
   "cell_type": "code",
   "execution_count": 3,
   "metadata": {
    "id": "RVyej5vY7C5x"
   },
   "outputs": [
    {
     "data": {
      "text/plain": [
       "200"
      ]
     },
     "execution_count": 3,
     "metadata": {},
     "output_type": "execute_result"
    }
   ],
   "source": [
    "## response\n",
    "\n",
    "response = requests.get(url)\n",
    "response.status_code"
   ]
  },
  {
   "cell_type": "code",
   "execution_count": 4,
   "metadata": {
    "id": "hSZHY1697C9k"
   },
   "outputs": [
    {
     "data": {
      "text/plain": [
       "str"
      ]
     },
     "execution_count": 4,
     "metadata": {},
     "output_type": "execute_result"
    }
   ],
   "source": [
    "type(response.text)"
   ]
  },
  {
   "cell_type": "code",
   "execution_count": 6,
   "metadata": {
    "id": "mgGBVsNH7DBk"
   },
   "outputs": [
    {
     "data": {
      "text/plain": [
       "[                Notice Type        Posted Date/Time  \\\n",
       " 0       Capacity Constraint  10/23/2023 03:36:53 PM   \n",
       " 1       Capacity Constraint  10/22/2023 03:05:11 PM   \n",
       " 2       Capacity Constraint  10/21/2023 03:29:00 PM   \n",
       " 3       Capacity Constraint  10/20/2023 03:41:37 PM   \n",
       " 4       Capacity Constraint  10/19/2023 03:10:00 PM   \n",
       " ..                      ...                     ...   \n",
       " 118     Capacity Constraint  07/29/2023 02:45:36 PM   \n",
       " 119     Capacity Constraint  07/28/2023 03:49:14 PM   \n",
       " 120  Operational Flow Order  07/28/2023 07:11:00 AM   \n",
       " 121     Capacity Constraint  07/27/2023 03:03:44 PM   \n",
       " 122     Capacity Constraint  07/26/2023 02:57:00 PM   \n",
       " \n",
       "     Notice Effective Date/Time    Notice End Date/Time  Notice Identifier  \\\n",
       " 0       10/24/2023 09:00:00 AM  10/25/2023 09:00:00 AM             139536   \n",
       " 1       10/23/2023 09:00:00 AM  10/24/2023 09:00:00 AM             139482   \n",
       " 2       10/22/2023 09:00:00 AM  10/23/2023 09:00:00 AM             139455   \n",
       " 3       10/21/2023 09:00:00 AM  10/22/2023 09:00:00 AM             139420   \n",
       " 4       10/20/2023 09:00:00 AM  10/21/2023 09:00:00 AM             139374   \n",
       " ..                         ...                     ...                ...   \n",
       " 118     07/30/2023 09:00:00 AM  07/31/2023 09:00:00 AM             136178   \n",
       " 119     07/29/2023 09:00:00 AM  07/30/2023 09:00:00 AM             136161   \n",
       " 120     07/29/2023 09:00:00 AM  10/26/2023 09:00:00 AM             136132   \n",
       " 121     07/28/2023 09:00:00 AM  07/29/2023 09:00:00 AM             136114   \n",
       " 122     07/27/2023 09:00:00 AM  07/28/2023 09:00:00 AM             136078   \n",
       " \n",
       "                                            Subject  Response Date/Time  \n",
       " 0           AGT Pipeline Conditions for 10/24/2023                 NaN  \n",
       " 1           AGT Pipeline Conditions for 10/23/2023                 NaN  \n",
       " 2           AGT Pipeline Conditions for 10/22/2023                 NaN  \n",
       " 3           AGT Pipeline Conditions for 10/21/2023                 NaN  \n",
       " 4           AGT Pipeline Conditions for 10/20/2023                 NaN  \n",
       " ..                                             ...                 ...  \n",
       " 118          AGT Pipeline Conditions for 7/30/2023                 NaN  \n",
       " 119          AGT Pipeline Conditions for 7/29/2023                 NaN  \n",
       " 120  AGT Operational Flow Order -- LIFTED EFF 7/29                 NaN  \n",
       " 121          AGT Pipeline Conditions for 7/28/2023                 NaN  \n",
       " 122          AGT Pipeline Conditions for 7/27/2023                 NaN  \n",
       " \n",
       " [123 rows x 7 columns]]"
      ]
     },
     "execution_count": 6,
     "metadata": {},
     "output_type": "execute_result"
    }
   ],
   "source": [
    "##capture all tables\n",
    "\n",
    "all_data = pd.read_html(response.text)\n",
    "all_data"
   ]
  },
  {
   "cell_type": "code",
   "execution_count": 9,
   "metadata": {
    "id": "db8kOJsm7DF_"
   },
   "outputs": [
    {
     "data": {
      "text/html": [
       "<div>\n",
       "<style scoped>\n",
       "    .dataframe tbody tr th:only-of-type {\n",
       "        vertical-align: middle;\n",
       "    }\n",
       "\n",
       "    .dataframe tbody tr th {\n",
       "        vertical-align: top;\n",
       "    }\n",
       "\n",
       "    .dataframe thead th {\n",
       "        text-align: right;\n",
       "    }\n",
       "</style>\n",
       "<table border=\"1\" class=\"dataframe\">\n",
       "  <thead>\n",
       "    <tr style=\"text-align: right;\">\n",
       "      <th></th>\n",
       "      <th>Notice Type</th>\n",
       "      <th>Posted Date/Time</th>\n",
       "      <th>Notice Effective Date/Time</th>\n",
       "      <th>Notice End Date/Time</th>\n",
       "      <th>Notice Identifier</th>\n",
       "      <th>Subject</th>\n",
       "      <th>Response Date/Time</th>\n",
       "    </tr>\n",
       "  </thead>\n",
       "  <tbody>\n",
       "    <tr>\n",
       "      <th>0</th>\n",
       "      <td>Capacity Constraint</td>\n",
       "      <td>10/23/2023 03:36:53 PM</td>\n",
       "      <td>10/24/2023 09:00:00 AM</td>\n",
       "      <td>10/25/2023 09:00:00 AM</td>\n",
       "      <td>139536</td>\n",
       "      <td>AGT Pipeline Conditions for 10/24/2023</td>\n",
       "      <td>NaN</td>\n",
       "    </tr>\n",
       "    <tr>\n",
       "      <th>1</th>\n",
       "      <td>Capacity Constraint</td>\n",
       "      <td>10/22/2023 03:05:11 PM</td>\n",
       "      <td>10/23/2023 09:00:00 AM</td>\n",
       "      <td>10/24/2023 09:00:00 AM</td>\n",
       "      <td>139482</td>\n",
       "      <td>AGT Pipeline Conditions for 10/23/2023</td>\n",
       "      <td>NaN</td>\n",
       "    </tr>\n",
       "    <tr>\n",
       "      <th>2</th>\n",
       "      <td>Capacity Constraint</td>\n",
       "      <td>10/21/2023 03:29:00 PM</td>\n",
       "      <td>10/22/2023 09:00:00 AM</td>\n",
       "      <td>10/23/2023 09:00:00 AM</td>\n",
       "      <td>139455</td>\n",
       "      <td>AGT Pipeline Conditions for 10/22/2023</td>\n",
       "      <td>NaN</td>\n",
       "    </tr>\n",
       "    <tr>\n",
       "      <th>3</th>\n",
       "      <td>Capacity Constraint</td>\n",
       "      <td>10/20/2023 03:41:37 PM</td>\n",
       "      <td>10/21/2023 09:00:00 AM</td>\n",
       "      <td>10/22/2023 09:00:00 AM</td>\n",
       "      <td>139420</td>\n",
       "      <td>AGT Pipeline Conditions for 10/21/2023</td>\n",
       "      <td>NaN</td>\n",
       "    </tr>\n",
       "    <tr>\n",
       "      <th>4</th>\n",
       "      <td>Capacity Constraint</td>\n",
       "      <td>10/19/2023 03:10:00 PM</td>\n",
       "      <td>10/20/2023 09:00:00 AM</td>\n",
       "      <td>10/21/2023 09:00:00 AM</td>\n",
       "      <td>139374</td>\n",
       "      <td>AGT Pipeline Conditions for 10/20/2023</td>\n",
       "      <td>NaN</td>\n",
       "    </tr>\n",
       "    <tr>\n",
       "      <th>...</th>\n",
       "      <td>...</td>\n",
       "      <td>...</td>\n",
       "      <td>...</td>\n",
       "      <td>...</td>\n",
       "      <td>...</td>\n",
       "      <td>...</td>\n",
       "      <td>...</td>\n",
       "    </tr>\n",
       "    <tr>\n",
       "      <th>118</th>\n",
       "      <td>Capacity Constraint</td>\n",
       "      <td>07/29/2023 02:45:36 PM</td>\n",
       "      <td>07/30/2023 09:00:00 AM</td>\n",
       "      <td>07/31/2023 09:00:00 AM</td>\n",
       "      <td>136178</td>\n",
       "      <td>AGT Pipeline Conditions for 7/30/2023</td>\n",
       "      <td>NaN</td>\n",
       "    </tr>\n",
       "    <tr>\n",
       "      <th>119</th>\n",
       "      <td>Capacity Constraint</td>\n",
       "      <td>07/28/2023 03:49:14 PM</td>\n",
       "      <td>07/29/2023 09:00:00 AM</td>\n",
       "      <td>07/30/2023 09:00:00 AM</td>\n",
       "      <td>136161</td>\n",
       "      <td>AGT Pipeline Conditions for 7/29/2023</td>\n",
       "      <td>NaN</td>\n",
       "    </tr>\n",
       "    <tr>\n",
       "      <th>120</th>\n",
       "      <td>Operational Flow Order</td>\n",
       "      <td>07/28/2023 07:11:00 AM</td>\n",
       "      <td>07/29/2023 09:00:00 AM</td>\n",
       "      <td>10/26/2023 09:00:00 AM</td>\n",
       "      <td>136132</td>\n",
       "      <td>AGT Operational Flow Order -- LIFTED EFF 7/29</td>\n",
       "      <td>NaN</td>\n",
       "    </tr>\n",
       "    <tr>\n",
       "      <th>121</th>\n",
       "      <td>Capacity Constraint</td>\n",
       "      <td>07/27/2023 03:03:44 PM</td>\n",
       "      <td>07/28/2023 09:00:00 AM</td>\n",
       "      <td>07/29/2023 09:00:00 AM</td>\n",
       "      <td>136114</td>\n",
       "      <td>AGT Pipeline Conditions for 7/28/2023</td>\n",
       "      <td>NaN</td>\n",
       "    </tr>\n",
       "    <tr>\n",
       "      <th>122</th>\n",
       "      <td>Capacity Constraint</td>\n",
       "      <td>07/26/2023 02:57:00 PM</td>\n",
       "      <td>07/27/2023 09:00:00 AM</td>\n",
       "      <td>07/28/2023 09:00:00 AM</td>\n",
       "      <td>136078</td>\n",
       "      <td>AGT Pipeline Conditions for 7/27/2023</td>\n",
       "      <td>NaN</td>\n",
       "    </tr>\n",
       "  </tbody>\n",
       "</table>\n",
       "<p>123 rows × 7 columns</p>\n",
       "</div>"
      ],
      "text/plain": [
       "                Notice Type        Posted Date/Time  \\\n",
       "0       Capacity Constraint  10/23/2023 03:36:53 PM   \n",
       "1       Capacity Constraint  10/22/2023 03:05:11 PM   \n",
       "2       Capacity Constraint  10/21/2023 03:29:00 PM   \n",
       "3       Capacity Constraint  10/20/2023 03:41:37 PM   \n",
       "4       Capacity Constraint  10/19/2023 03:10:00 PM   \n",
       "..                      ...                     ...   \n",
       "118     Capacity Constraint  07/29/2023 02:45:36 PM   \n",
       "119     Capacity Constraint  07/28/2023 03:49:14 PM   \n",
       "120  Operational Flow Order  07/28/2023 07:11:00 AM   \n",
       "121     Capacity Constraint  07/27/2023 03:03:44 PM   \n",
       "122     Capacity Constraint  07/26/2023 02:57:00 PM   \n",
       "\n",
       "    Notice Effective Date/Time    Notice End Date/Time  Notice Identifier  \\\n",
       "0       10/24/2023 09:00:00 AM  10/25/2023 09:00:00 AM             139536   \n",
       "1       10/23/2023 09:00:00 AM  10/24/2023 09:00:00 AM             139482   \n",
       "2       10/22/2023 09:00:00 AM  10/23/2023 09:00:00 AM             139455   \n",
       "3       10/21/2023 09:00:00 AM  10/22/2023 09:00:00 AM             139420   \n",
       "4       10/20/2023 09:00:00 AM  10/21/2023 09:00:00 AM             139374   \n",
       "..                         ...                     ...                ...   \n",
       "118     07/30/2023 09:00:00 AM  07/31/2023 09:00:00 AM             136178   \n",
       "119     07/29/2023 09:00:00 AM  07/30/2023 09:00:00 AM             136161   \n",
       "120     07/29/2023 09:00:00 AM  10/26/2023 09:00:00 AM             136132   \n",
       "121     07/28/2023 09:00:00 AM  07/29/2023 09:00:00 AM             136114   \n",
       "122     07/27/2023 09:00:00 AM  07/28/2023 09:00:00 AM             136078   \n",
       "\n",
       "                                           Subject  Response Date/Time  \n",
       "0           AGT Pipeline Conditions for 10/24/2023                 NaN  \n",
       "1           AGT Pipeline Conditions for 10/23/2023                 NaN  \n",
       "2           AGT Pipeline Conditions for 10/22/2023                 NaN  \n",
       "3           AGT Pipeline Conditions for 10/21/2023                 NaN  \n",
       "4           AGT Pipeline Conditions for 10/20/2023                 NaN  \n",
       "..                                             ...                 ...  \n",
       "118          AGT Pipeline Conditions for 7/30/2023                 NaN  \n",
       "119          AGT Pipeline Conditions for 7/29/2023                 NaN  \n",
       "120  AGT Operational Flow Order -- LIFTED EFF 7/29                 NaN  \n",
       "121          AGT Pipeline Conditions for 7/28/2023                 NaN  \n",
       "122          AGT Pipeline Conditions for 7/27/2023                 NaN  \n",
       "\n",
       "[123 rows x 7 columns]"
      ]
     },
     "execution_count": 9,
     "metadata": {},
     "output_type": "execute_result"
    }
   ],
   "source": [
    "df = all_data[0]\n",
    "df"
   ]
  },
  {
   "cell_type": "code",
   "execution_count": null,
   "metadata": {
    "id": "mxkn7KQV7aKu"
   },
   "outputs": [],
   "source": []
  },
  {
   "cell_type": "code",
   "execution_count": null,
   "metadata": {
    "id": "p8Sx93rq7aOq"
   },
   "outputs": [],
   "source": []
  },
  {
   "cell_type": "code",
   "execution_count": null,
   "metadata": {
    "id": "V2bHKiYC7aSQ"
   },
   "outputs": [],
   "source": []
  },
  {
   "cell_type": "code",
   "execution_count": null,
   "metadata": {
    "id": "iXhV3d8x7aV4"
   },
   "outputs": [],
   "source": []
  },
  {
   "cell_type": "code",
   "execution_count": null,
   "metadata": {
    "id": "59qNUR8_7aZs"
   },
   "outputs": [],
   "source": []
  },
  {
   "cell_type": "code",
   "execution_count": null,
   "metadata": {
    "id": "kVPlhQlo7adz"
   },
   "outputs": [],
   "source": []
  },
  {
   "cell_type": "code",
   "execution_count": null,
   "metadata": {
    "id": "KTDAerkS7auk"
   },
   "outputs": [],
   "source": []
  },
  {
   "cell_type": "code",
   "execution_count": null,
   "metadata": {
    "id": "qqerx4Hj7aym"
   },
   "outputs": [],
   "source": []
  },
  {
   "cell_type": "code",
   "execution_count": null,
   "metadata": {
    "id": "VbkNHTl67a2B"
   },
   "outputs": [],
   "source": []
  },
  {
   "cell_type": "code",
   "execution_count": null,
   "metadata": {
    "id": "BjSZO0FX7a56"
   },
   "outputs": [],
   "source": []
  },
  {
   "cell_type": "markdown",
   "metadata": {
    "id": "KtAxIHwN7DcC"
   },
   "source": [
    "# What if we wanted to scrape ALL the gas lines?\n"
   ]
  },
  {
   "cell_type": "code",
   "execution_count": null,
   "metadata": {
    "id": "HqPqVmFd7Nmi"
   },
   "outputs": [],
   "source": []
  }
 ],
 "metadata": {
  "colab": {
   "authorship_tag": "ABX9TyO29aUWhDci68FujXoSx+Mf",
   "collapsed_sections": [],
   "provenance": []
  },
  "kernelspec": {
   "display_name": "Python 3 (ipykernel)",
   "language": "python",
   "name": "python3"
  },
  "language_info": {
   "codemirror_mode": {
    "name": "ipython",
    "version": 3
   },
   "file_extension": ".py",
   "mimetype": "text/x-python",
   "name": "python",
   "nbconvert_exporter": "python",
   "pygments_lexer": "ipython3",
   "version": "3.9.13"
  }
 },
 "nbformat": 4,
 "nbformat_minor": 1
}
