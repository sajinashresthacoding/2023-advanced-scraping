{
 "cells": [
  {
   "cell_type": "markdown",
   "metadata": {
    "id": "UqI5EjGAA2rL"
   },
   "source": [
    "# Taming ```JSON ```\n",
    "\n",
    "## Part 2: flattening nested data\n",
    "\n",
    "While JSON, or JavaScript Object Notation, is a widely-used light-weight data storage format, it can be difficult to parse because of its deeply nested logic.\n",
    "\n",
    "Let's explore different ways to flatten nested ```JSON*```.\n",
    "\n",
    "```*``` JSON's versatility makes customization limitless - which also means there is **NO \"one-solution-fit-all\"** and often **no simple solution** to flatten all JSON data in the wild.\n",
    "\n"
   ]
  },
  {
   "cell_type": "code",
   "execution_count": 1,
   "metadata": {
    "id": "ivIzGubXA2rM"
   },
   "outputs": [],
   "source": [
    "## import libraries\n",
    "import pandas as pd\n",
    "import requests\n",
    "import json"
   ]
  },
  {
   "cell_type": "markdown",
   "metadata": {
    "id": "Ix7nV7JaA2rM"
   },
   "source": [
    "#### Read this simple nested ```JSON``` formatted data:\n"
   ]
  },
  {
   "cell_type": "code",
   "execution_count": 2,
   "metadata": {
    "id": "CIHQjM9KA2rN"
   },
   "outputs": [],
   "source": [
    "## run this cell to capture json object in memory\n",
    "json_obj = {\n",
    "    'publication': 'NYC News Service',\n",
    "    'location': 'New York',\n",
    "    'reach': \"Local\",\n",
    "    'info': {\n",
    "        'editor': 'John Mancini',\n",
    "        'contacts': {\n",
    "          'email': {\n",
    "              'tips': 'tips@nycitynewsservice.com',\n",
    "              'general': 'info@nycitynewsservice.com'\n",
    "          },\n",
    "          'tel': '123456789',\n",
    "      }\n",
    "    }\n",
    "}\n",
    "\n"
   ]
  },
  {
   "cell_type": "code",
   "execution_count": 3,
   "metadata": {
    "id": "UxTBjodWA2rN"
   },
   "outputs": [
    {
     "data": {
      "text/plain": [
       "dict"
      ]
     },
     "execution_count": 3,
     "metadata": {},
     "output_type": "execute_result"
    }
   ],
   "source": [
    "## type of object\n",
    "type(json_obj)"
   ]
  },
  {
   "cell_type": "code",
   "execution_count": 4,
   "metadata": {
    "id": "5SCGEDkqA2rN"
   },
   "outputs": [
    {
     "data": {
      "text/html": [
       "<div>\n",
       "<style scoped>\n",
       "    .dataframe tbody tr th:only-of-type {\n",
       "        vertical-align: middle;\n",
       "    }\n",
       "\n",
       "    .dataframe tbody tr th {\n",
       "        vertical-align: top;\n",
       "    }\n",
       "\n",
       "    .dataframe thead th {\n",
       "        text-align: right;\n",
       "    }\n",
       "</style>\n",
       "<table border=\"1\" class=\"dataframe\">\n",
       "  <thead>\n",
       "    <tr style=\"text-align: right;\">\n",
       "      <th></th>\n",
       "      <th>publication</th>\n",
       "      <th>location</th>\n",
       "      <th>reach</th>\n",
       "      <th>info</th>\n",
       "    </tr>\n",
       "  </thead>\n",
       "  <tbody>\n",
       "    <tr>\n",
       "      <th>contacts</th>\n",
       "      <td>NYC News Service</td>\n",
       "      <td>New York</td>\n",
       "      <td>Local</td>\n",
       "      <td>{'email': {'tips': 'tips@nycitynewsservice.com...</td>\n",
       "    </tr>\n",
       "    <tr>\n",
       "      <th>editor</th>\n",
       "      <td>NYC News Service</td>\n",
       "      <td>New York</td>\n",
       "      <td>Local</td>\n",
       "      <td>John Mancini</td>\n",
       "    </tr>\n",
       "  </tbody>\n",
       "</table>\n",
       "</div>"
      ],
      "text/plain": [
       "               publication  location  reach  \\\n",
       "contacts  NYC News Service  New York  Local   \n",
       "editor    NYC News Service  New York  Local   \n",
       "\n",
       "                                                       info  \n",
       "contacts  {'email': {'tips': 'tips@nycitynewsservice.com...  \n",
       "editor                                         John Mancini  "
      ]
     },
     "execution_count": 4,
     "metadata": {},
     "output_type": "execute_result"
    }
   ],
   "source": [
    "## let's try to turn it directly into a df \n",
    "pd.DataFrame(json_obj)"
   ]
  },
  {
   "cell_type": "markdown",
   "metadata": {},
   "source": [
    "<b><i>pd.json_normalize(list or dictionary)"
   ]
  },
  {
   "cell_type": "code",
   "execution_count": 5,
   "metadata": {
    "id": "n7gowwQJA2rN"
   },
   "outputs": [
    {
     "data": {
      "text/html": [
       "<div>\n",
       "<style scoped>\n",
       "    .dataframe tbody tr th:only-of-type {\n",
       "        vertical-align: middle;\n",
       "    }\n",
       "\n",
       "    .dataframe tbody tr th {\n",
       "        vertical-align: top;\n",
       "    }\n",
       "\n",
       "    .dataframe thead th {\n",
       "        text-align: right;\n",
       "    }\n",
       "</style>\n",
       "<table border=\"1\" class=\"dataframe\">\n",
       "  <thead>\n",
       "    <tr style=\"text-align: right;\">\n",
       "      <th></th>\n",
       "      <th>publication</th>\n",
       "      <th>location</th>\n",
       "      <th>reach</th>\n",
       "      <th>info.editor</th>\n",
       "      <th>info.contacts.email.tips</th>\n",
       "      <th>info.contacts.email.general</th>\n",
       "      <th>info.contacts.tel</th>\n",
       "    </tr>\n",
       "  </thead>\n",
       "  <tbody>\n",
       "    <tr>\n",
       "      <th>0</th>\n",
       "      <td>NYC News Service</td>\n",
       "      <td>New York</td>\n",
       "      <td>Local</td>\n",
       "      <td>John Mancini</td>\n",
       "      <td>tips@nycitynewsservice.com</td>\n",
       "      <td>info@nycitynewsservice.com</td>\n",
       "      <td>123456789</td>\n",
       "    </tr>\n",
       "  </tbody>\n",
       "</table>\n",
       "</div>"
      ],
      "text/plain": [
       "        publication  location  reach   info.editor  \\\n",
       "0  NYC News Service  New York  Local  John Mancini   \n",
       "\n",
       "     info.contacts.email.tips info.contacts.email.general info.contacts.tel  \n",
       "0  tips@nycitynewsservice.com  info@nycitynewsservice.com         123456789  "
      ]
     },
     "execution_count": 5,
     "metadata": {},
     "output_type": "execute_result"
    }
   ],
   "source": [
    "#### Normalize json_obj, a single dictionary:\n",
    "df = pd.json_normalize(json_obj)\n",
    "df"
   ]
  },
  {
   "cell_type": "markdown",
   "metadata": {
    "id": "v3n0wvVaA2rN"
   },
   "source": [
    "#### Normalize a list of dictionaries:"
   ]
  },
  {
   "cell_type": "code",
   "execution_count": 6,
   "metadata": {
    "id": "ibzIBRsiA2rN"
   },
   "outputs": [],
   "source": [
    "## a list of nested json\n",
    "\n",
    "json_list_obj = [\n",
    "{\n",
    "    'publication': 'NY City News Service',\n",
    "    'location': 'New York',\n",
    "    'reach': \"Local\",\n",
    "    'info': {\n",
    "        'editor': 'John Mancini',\n",
    "        'contacts': {\n",
    "          'email': {\n",
    "              'tips': 'tips@nycitynewsservice.com',\n",
    "              'general': 'info@nycitynewsservice.com'\n",
    "          },\n",
    "          'tel': '123456789',\n",
    "      }\n",
    "    }\n",
    "},\n",
    " \n",
    "{\n",
    "    'publication': 'The New York Times',\n",
    "    'location': 'New York',\n",
    "    'reach': \"Global\",\n",
    "    'info': {\n",
    "        'editor': 'Josehp Kahn',\n",
    "        'contacts': {\n",
    "          'email': {\n",
    "              'tips': 'tips@nytimes.com',\n",
    "              'general': 'info@nytimes.com'\n",
    "          },\n",
    "          'tel': '987654321',\n",
    "      }\n",
    "    }\n",
    "}\n",
    "    \n",
    "]"
   ]
  },
  {
   "cell_type": "code",
   "execution_count": 7,
   "metadata": {
    "id": "qQKwp1hXA2rN"
   },
   "outputs": [
    {
     "data": {
      "text/plain": [
       "list"
      ]
     },
     "execution_count": 7,
     "metadata": {},
     "output_type": "execute_result"
    }
   ],
   "source": [
    "## type\n",
    "type(json_list_obj)"
   ]
  },
  {
   "cell_type": "code",
   "execution_count": null,
   "metadata": {
    "id": "_xo9Oa-DA2rN",
    "scrolled": true
   },
   "outputs": [],
   "source": [
    "## call object, INDENT 2\n"
   ]
  },
  {
   "cell_type": "code",
   "execution_count": null,
   "metadata": {
    "id": "ZkeR5iWrA2rN"
   },
   "outputs": [],
   "source": [
    "## type of object list holds\n"
   ]
  },
  {
   "cell_type": "code",
   "execution_count": 8,
   "metadata": {
    "id": "ob-FFtr_A2rN"
   },
   "outputs": [
    {
     "data": {
      "text/html": [
       "<div>\n",
       "<style scoped>\n",
       "    .dataframe tbody tr th:only-of-type {\n",
       "        vertical-align: middle;\n",
       "    }\n",
       "\n",
       "    .dataframe tbody tr th {\n",
       "        vertical-align: top;\n",
       "    }\n",
       "\n",
       "    .dataframe thead th {\n",
       "        text-align: right;\n",
       "    }\n",
       "</style>\n",
       "<table border=\"1\" class=\"dataframe\">\n",
       "  <thead>\n",
       "    <tr style=\"text-align: right;\">\n",
       "      <th></th>\n",
       "      <th>publication</th>\n",
       "      <th>location</th>\n",
       "      <th>reach</th>\n",
       "      <th>info</th>\n",
       "    </tr>\n",
       "  </thead>\n",
       "  <tbody>\n",
       "    <tr>\n",
       "      <th>0</th>\n",
       "      <td>NY City News Service</td>\n",
       "      <td>New York</td>\n",
       "      <td>Local</td>\n",
       "      <td>{'editor': 'John Mancini', 'contacts': {'email...</td>\n",
       "    </tr>\n",
       "    <tr>\n",
       "      <th>1</th>\n",
       "      <td>The New York Times</td>\n",
       "      <td>New York</td>\n",
       "      <td>Global</td>\n",
       "      <td>{'editor': 'Josehp Kahn', 'contacts': {'email'...</td>\n",
       "    </tr>\n",
       "  </tbody>\n",
       "</table>\n",
       "</div>"
      ],
      "text/plain": [
       "            publication  location   reach  \\\n",
       "0  NY City News Service  New York   Local   \n",
       "1    The New York Times  New York  Global   \n",
       "\n",
       "                                                info  \n",
       "0  {'editor': 'John Mancini', 'contacts': {'email...  \n",
       "1  {'editor': 'Josehp Kahn', 'contacts': {'email'...  "
      ]
     },
     "execution_count": 8,
     "metadata": {},
     "output_type": "execute_result"
    }
   ],
   "source": [
    "## turn into a dataframe\n",
    "pd.DataFrame(json_list_obj)"
   ]
  },
  {
   "cell_type": "code",
   "execution_count": 9,
   "metadata": {
    "id": "dXhTGyc0A2rN"
   },
   "outputs": [
    {
     "data": {
      "text/html": [
       "<div>\n",
       "<style scoped>\n",
       "    .dataframe tbody tr th:only-of-type {\n",
       "        vertical-align: middle;\n",
       "    }\n",
       "\n",
       "    .dataframe tbody tr th {\n",
       "        vertical-align: top;\n",
       "    }\n",
       "\n",
       "    .dataframe thead th {\n",
       "        text-align: right;\n",
       "    }\n",
       "</style>\n",
       "<table border=\"1\" class=\"dataframe\">\n",
       "  <thead>\n",
       "    <tr style=\"text-align: right;\">\n",
       "      <th></th>\n",
       "      <th>publication</th>\n",
       "      <th>location</th>\n",
       "      <th>reach</th>\n",
       "      <th>info.editor</th>\n",
       "      <th>info.contacts.email.tips</th>\n",
       "      <th>info.contacts.email.general</th>\n",
       "      <th>info.contacts.tel</th>\n",
       "    </tr>\n",
       "  </thead>\n",
       "  <tbody>\n",
       "    <tr>\n",
       "      <th>0</th>\n",
       "      <td>NY City News Service</td>\n",
       "      <td>New York</td>\n",
       "      <td>Local</td>\n",
       "      <td>John Mancini</td>\n",
       "      <td>tips@nycitynewsservice.com</td>\n",
       "      <td>info@nycitynewsservice.com</td>\n",
       "      <td>123456789</td>\n",
       "    </tr>\n",
       "    <tr>\n",
       "      <th>1</th>\n",
       "      <td>The New York Times</td>\n",
       "      <td>New York</td>\n",
       "      <td>Global</td>\n",
       "      <td>Josehp Kahn</td>\n",
       "      <td>tips@nytimes.com</td>\n",
       "      <td>info@nytimes.com</td>\n",
       "      <td>987654321</td>\n",
       "    </tr>\n",
       "  </tbody>\n",
       "</table>\n",
       "</div>"
      ],
      "text/plain": [
       "            publication  location   reach   info.editor  \\\n",
       "0  NY City News Service  New York   Local  John Mancini   \n",
       "1    The New York Times  New York  Global   Josehp Kahn   \n",
       "\n",
       "     info.contacts.email.tips info.contacts.email.general info.contacts.tel  \n",
       "0  tips@nycitynewsservice.com  info@nycitynewsservice.com         123456789  \n",
       "1            tips@nytimes.com            info@nytimes.com         987654321  "
      ]
     },
     "execution_count": 9,
     "metadata": {},
     "output_type": "execute_result"
    }
   ],
   "source": [
    "## normalize list of dicts\n",
    "pd.json_normalize(json_list_obj)"
   ]
  },
  {
   "cell_type": "code",
   "execution_count": 11,
   "metadata": {
    "id": "lo2ENxt1A2rO"
   },
   "outputs": [
    {
     "data": {
      "text/html": [
       "<div>\n",
       "<style scoped>\n",
       "    .dataframe tbody tr th:only-of-type {\n",
       "        vertical-align: middle;\n",
       "    }\n",
       "\n",
       "    .dataframe tbody tr th {\n",
       "        vertical-align: top;\n",
       "    }\n",
       "\n",
       "    .dataframe thead th {\n",
       "        text-align: right;\n",
       "    }\n",
       "</style>\n",
       "<table border=\"1\" class=\"dataframe\">\n",
       "  <thead>\n",
       "    <tr style=\"text-align: right;\">\n",
       "      <th></th>\n",
       "      <th>publication</th>\n",
       "      <th>location</th>\n",
       "      <th>reach</th>\n",
       "      <th>info.editor</th>\n",
       "      <th>info.contacts.email</th>\n",
       "      <th>info.contacts.tel</th>\n",
       "    </tr>\n",
       "  </thead>\n",
       "  <tbody>\n",
       "    <tr>\n",
       "      <th>0</th>\n",
       "      <td>NY City News Service</td>\n",
       "      <td>New York</td>\n",
       "      <td>Local</td>\n",
       "      <td>John Mancini</td>\n",
       "      <td>{'tips': 'tips@nycitynewsservice.com', 'genera...</td>\n",
       "      <td>123456789</td>\n",
       "    </tr>\n",
       "    <tr>\n",
       "      <th>1</th>\n",
       "      <td>The New York Times</td>\n",
       "      <td>New York</td>\n",
       "      <td>Global</td>\n",
       "      <td>Josehp Kahn</td>\n",
       "      <td>{'tips': 'tips@nytimes.com', 'general': 'info@...</td>\n",
       "      <td>987654321</td>\n",
       "    </tr>\n",
       "  </tbody>\n",
       "</table>\n",
       "</div>"
      ],
      "text/plain": [
       "            publication  location   reach   info.editor  \\\n",
       "0  NY City News Service  New York   Local  John Mancini   \n",
       "1    The New York Times  New York  Global   Josehp Kahn   \n",
       "\n",
       "                                 info.contacts.email info.contacts.tel  \n",
       "0  {'tips': 'tips@nycitynewsservice.com', 'genera...         123456789  \n",
       "1  {'tips': 'tips@nytimes.com', 'general': 'info@...         987654321  "
      ]
     },
     "execution_count": 11,
     "metadata": {},
     "output_type": "execute_result"
    }
   ],
   "source": [
    "## control the levels into which you want to enter the nest\n",
    "pd.json_normalize(json_list_obj, max_level = 2)"
   ]
  },
  {
   "cell_type": "code",
   "execution_count": null,
   "metadata": {
    "id": "M0TH5_g7pYuN"
   },
   "outputs": [],
   "source": []
  },
  {
   "cell_type": "code",
   "execution_count": null,
   "metadata": {
    "id": "bazgEOkNqHgP"
   },
   "outputs": [],
   "source": [
    "## max level 3\n"
   ]
  },
  {
   "cell_type": "markdown",
   "metadata": {
    "id": "VNSuvKp1A2rO"
   },
   "source": [
    "## Let's deal with nested lists"
   ]
  },
  {
   "cell_type": "markdown",
   "metadata": {
    "id": "y2Zb94W9A2rO"
   },
   "source": [
    "### Deeply nest mock data"
   ]
  },
  {
   "cell_type": "code",
   "execution_count": 12,
   "metadata": {
    "id": "62m7oACqA2rO"
   },
   "outputs": [],
   "source": [
    "nested_j = '''\n",
    "{\n",
    "\t\"data\": [{\n",
    "\t\t\t\"fundID\": 1,\n",
    "\t\t\t\"firstName\": \"John\",\n",
    "\t\t\t\"lastName\": \"Smith\",\n",
    "\t\t\t\"categories\": [{\n",
    "\t\t\t\t\"type\": \"hedge\",\n",
    "\t\t\t\t\"description\": \"Get Rich Fast\"\n",
    "\t\t\t}],\n",
    "\t\t\t\"under_investigation\": false\n",
    "\t\t},\n",
    "\t\t{\n",
    "\t\t\t\"fundID\": 2,\n",
    "\t\t\t\"firstName\": \"George\",\n",
    "\t\t\t\"lastName\": \"Santos\",\n",
    "\t\t\t\"categories\": [{\n",
    "\t\t\t\t\"type\": \"hedge\",\n",
    "\t\t\t\t\"description\": \"Ponzi\"\n",
    "\t\t\t}],\n",
    "\t\t\t\"under_investigation\": true\n",
    "\t\t},\n",
    "\t\t{\n",
    "\t\t\t\"fundID\": 3,\n",
    "\t\t\t\"firstName\": \"Sarah\",\n",
    "\t\t\t\"lastName\": \"Kepler\",\n",
    "\t\t\t\"categories\": [{\n",
    "\t\t\t\t\"type\": \"venture\",\n",
    "\t\t\t\t\"description\": \"Angel funding\"\n",
    "\t\t\t}],\n",
    "\t\t\t\"under_investigation\": false\n",
    "\t\t},\n",
    "\t\t{\n",
    "\t\t\t\"fundID\": 4,\n",
    "\t\t\t\"firstName\": \"Liz\",\n",
    "\t\t\t\"lastName\": \"Smith\",\n",
    "\t\t\t\"categories\": [{\n",
    "\t\t\t\t\"type\": \"mutual fund\",\n",
    "\t\t\t\t\"description\": \"slow and steady\"\n",
    "\t\t\t}],\n",
    "\t\t\t\"under_investigation\": false\n",
    "\t\t}\n",
    "\t]\n",
    "}\n",
    "'''"
   ]
  },
  {
   "cell_type": "code",
   "execution_count": 13,
   "metadata": {
    "id": "-BAiC1ChsW17"
   },
   "outputs": [
    {
     "data": {
      "text/plain": [
       "str"
      ]
     },
     "execution_count": 13,
     "metadata": {},
     "output_type": "execute_result"
    }
   ],
   "source": [
    "#type of data\n",
    "type(nested_j)"
   ]
  },
  {
   "cell_type": "code",
   "execution_count": 14,
   "metadata": {
    "id": "EH0R-JLMsXAB"
   },
   "outputs": [
    {
     "data": {
      "text/plain": [
       "{'data': [{'fundID': 1,\n",
       "   'firstName': 'John',\n",
       "   'lastName': 'Smith',\n",
       "   'categories': [{'type': 'hedge', 'description': 'Get Rich Fast'}],\n",
       "   'under_investigation': False},\n",
       "  {'fundID': 2,\n",
       "   'firstName': 'George',\n",
       "   'lastName': 'Santos',\n",
       "   'categories': [{'type': 'hedge', 'description': 'Ponzi'}],\n",
       "   'under_investigation': True},\n",
       "  {'fundID': 3,\n",
       "   'firstName': 'Sarah',\n",
       "   'lastName': 'Kepler',\n",
       "   'categories': [{'type': 'venture', 'description': 'Angel funding'}],\n",
       "   'under_investigation': False},\n",
       "  {'fundID': 4,\n",
       "   'firstName': 'Liz',\n",
       "   'lastName': 'Smith',\n",
       "   'categories': [{'type': 'mutual fund', 'description': 'slow and steady'}],\n",
       "   'under_investigation': False}]}"
      ]
     },
     "execution_count": 14,
     "metadata": {},
     "output_type": "execute_result"
    }
   ],
   "source": [
    "## load json into variable\n",
    "f_data = json.loads(nested_j)\n",
    "f_data"
   ]
  },
  {
   "cell_type": "code",
   "execution_count": null,
   "metadata": {
    "id": "7pZJn0dUsXFi"
   },
   "outputs": [],
   "source": [
    "## type of data\n"
   ]
  },
  {
   "cell_type": "code",
   "execution_count": 15,
   "metadata": {
    "id": "0iwwIkCusXJv"
   },
   "outputs": [
    {
     "data": {
      "text/html": [
       "<div>\n",
       "<style scoped>\n",
       "    .dataframe tbody tr th:only-of-type {\n",
       "        vertical-align: middle;\n",
       "    }\n",
       "\n",
       "    .dataframe tbody tr th {\n",
       "        vertical-align: top;\n",
       "    }\n",
       "\n",
       "    .dataframe thead th {\n",
       "        text-align: right;\n",
       "    }\n",
       "</style>\n",
       "<table border=\"1\" class=\"dataframe\">\n",
       "  <thead>\n",
       "    <tr style=\"text-align: right;\">\n",
       "      <th></th>\n",
       "      <th>data</th>\n",
       "    </tr>\n",
       "  </thead>\n",
       "  <tbody>\n",
       "    <tr>\n",
       "      <th>0</th>\n",
       "      <td>{'fundID': 1, 'firstName': 'John', 'lastName':...</td>\n",
       "    </tr>\n",
       "    <tr>\n",
       "      <th>1</th>\n",
       "      <td>{'fundID': 2, 'firstName': 'George', 'lastName...</td>\n",
       "    </tr>\n",
       "    <tr>\n",
       "      <th>2</th>\n",
       "      <td>{'fundID': 3, 'firstName': 'Sarah', 'lastName'...</td>\n",
       "    </tr>\n",
       "    <tr>\n",
       "      <th>3</th>\n",
       "      <td>{'fundID': 4, 'firstName': 'Liz', 'lastName': ...</td>\n",
       "    </tr>\n",
       "  </tbody>\n",
       "</table>\n",
       "</div>"
      ],
      "text/plain": [
       "                                                data\n",
       "0  {'fundID': 1, 'firstName': 'John', 'lastName':...\n",
       "1  {'fundID': 2, 'firstName': 'George', 'lastName...\n",
       "2  {'fundID': 3, 'firstName': 'Sarah', 'lastName'...\n",
       "3  {'fundID': 4, 'firstName': 'Liz', 'lastName': ..."
      ]
     },
     "execution_count": 15,
     "metadata": {},
     "output_type": "execute_result"
    }
   ],
   "source": [
    "## try to convert to df using pd.DataFrame\n",
    "pd.DataFrame(f_data)"
   ]
  },
  {
   "cell_type": "code",
   "execution_count": 16,
   "metadata": {
    "id": "26rBXZcmsXNV"
   },
   "outputs": [
    {
     "data": {
      "text/html": [
       "<div>\n",
       "<style scoped>\n",
       "    .dataframe tbody tr th:only-of-type {\n",
       "        vertical-align: middle;\n",
       "    }\n",
       "\n",
       "    .dataframe tbody tr th {\n",
       "        vertical-align: top;\n",
       "    }\n",
       "\n",
       "    .dataframe thead th {\n",
       "        text-align: right;\n",
       "    }\n",
       "</style>\n",
       "<table border=\"1\" class=\"dataframe\">\n",
       "  <thead>\n",
       "    <tr style=\"text-align: right;\">\n",
       "      <th></th>\n",
       "      <th>data</th>\n",
       "    </tr>\n",
       "  </thead>\n",
       "  <tbody>\n",
       "    <tr>\n",
       "      <th>0</th>\n",
       "      <td>[{'fundID': 1, 'firstName': 'John', 'lastName'...</td>\n",
       "    </tr>\n",
       "  </tbody>\n",
       "</table>\n",
       "</div>"
      ],
      "text/plain": [
       "                                                data\n",
       "0  [{'fundID': 1, 'firstName': 'John', 'lastName'..."
      ]
     },
     "execution_count": 16,
     "metadata": {},
     "output_type": "execute_result"
    }
   ],
   "source": [
    "## try using pd.json_normalize\n",
    "pd.json_normalize(f_data)"
   ]
  },
  {
   "cell_type": "code",
   "execution_count": 19,
   "metadata": {
    "id": "aA5F_QaBs60p"
   },
   "outputs": [
    {
     "data": {
      "text/html": [
       "<div>\n",
       "<style scoped>\n",
       "    .dataframe tbody tr th:only-of-type {\n",
       "        vertical-align: middle;\n",
       "    }\n",
       "\n",
       "    .dataframe tbody tr th {\n",
       "        vertical-align: top;\n",
       "    }\n",
       "\n",
       "    .dataframe thead th {\n",
       "        text-align: right;\n",
       "    }\n",
       "</style>\n",
       "<table border=\"1\" class=\"dataframe\">\n",
       "  <thead>\n",
       "    <tr style=\"text-align: right;\">\n",
       "      <th></th>\n",
       "      <th>type</th>\n",
       "      <th>description</th>\n",
       "    </tr>\n",
       "  </thead>\n",
       "  <tbody>\n",
       "    <tr>\n",
       "      <th>0</th>\n",
       "      <td>hedge</td>\n",
       "      <td>Get Rich Fast</td>\n",
       "    </tr>\n",
       "    <tr>\n",
       "      <th>1</th>\n",
       "      <td>hedge</td>\n",
       "      <td>Ponzi</td>\n",
       "    </tr>\n",
       "    <tr>\n",
       "      <th>2</th>\n",
       "      <td>venture</td>\n",
       "      <td>Angel funding</td>\n",
       "    </tr>\n",
       "    <tr>\n",
       "      <th>3</th>\n",
       "      <td>mutual fund</td>\n",
       "      <td>slow and steady</td>\n",
       "    </tr>\n",
       "  </tbody>\n",
       "</table>\n",
       "</div>"
      ],
      "text/plain": [
       "          type      description\n",
       "0        hedge    Get Rich Fast\n",
       "1        hedge            Ponzi\n",
       "2      venture    Angel funding\n",
       "3  mutual fund  slow and steady"
      ]
     },
     "execution_count": 19,
     "metadata": {},
     "output_type": "execute_result"
    }
   ],
   "source": [
    "## add a record path\n",
    "pd.json_normalize(f_data[\"data\"], record_path = \"categories\")"
   ]
  },
  {
   "cell_type": "code",
   "execution_count": 20,
   "metadata": {},
   "outputs": [
    {
     "data": {
      "text/html": [
       "<div>\n",
       "<style scoped>\n",
       "    .dataframe tbody tr th:only-of-type {\n",
       "        vertical-align: middle;\n",
       "    }\n",
       "\n",
       "    .dataframe tbody tr th {\n",
       "        vertical-align: top;\n",
       "    }\n",
       "\n",
       "    .dataframe thead th {\n",
       "        text-align: right;\n",
       "    }\n",
       "</style>\n",
       "<table border=\"1\" class=\"dataframe\">\n",
       "  <thead>\n",
       "    <tr style=\"text-align: right;\">\n",
       "      <th></th>\n",
       "      <th>type</th>\n",
       "      <th>description</th>\n",
       "      <th>fundID</th>\n",
       "      <th>firstName</th>\n",
       "      <th>lastName</th>\n",
       "      <th>under_investigation</th>\n",
       "    </tr>\n",
       "  </thead>\n",
       "  <tbody>\n",
       "    <tr>\n",
       "      <th>0</th>\n",
       "      <td>hedge</td>\n",
       "      <td>Get Rich Fast</td>\n",
       "      <td>1</td>\n",
       "      <td>John</td>\n",
       "      <td>Smith</td>\n",
       "      <td>False</td>\n",
       "    </tr>\n",
       "    <tr>\n",
       "      <th>1</th>\n",
       "      <td>hedge</td>\n",
       "      <td>Ponzi</td>\n",
       "      <td>2</td>\n",
       "      <td>George</td>\n",
       "      <td>Santos</td>\n",
       "      <td>True</td>\n",
       "    </tr>\n",
       "    <tr>\n",
       "      <th>2</th>\n",
       "      <td>venture</td>\n",
       "      <td>Angel funding</td>\n",
       "      <td>3</td>\n",
       "      <td>Sarah</td>\n",
       "      <td>Kepler</td>\n",
       "      <td>False</td>\n",
       "    </tr>\n",
       "    <tr>\n",
       "      <th>3</th>\n",
       "      <td>mutual fund</td>\n",
       "      <td>slow and steady</td>\n",
       "      <td>4</td>\n",
       "      <td>Liz</td>\n",
       "      <td>Smith</td>\n",
       "      <td>False</td>\n",
       "    </tr>\n",
       "  </tbody>\n",
       "</table>\n",
       "</div>"
      ],
      "text/plain": [
       "          type      description fundID firstName lastName under_investigation\n",
       "0        hedge    Get Rich Fast      1      John    Smith               False\n",
       "1        hedge            Ponzi      2    George   Santos                True\n",
       "2      venture    Angel funding      3     Sarah   Kepler               False\n",
       "3  mutual fund  slow and steady      4       Liz    Smith               False"
      ]
     },
     "execution_count": 20,
     "metadata": {},
     "output_type": "execute_result"
    }
   ],
   "source": [
    "pd.json_normalize(f_data[\"data\"], \n",
    "                  record_path = \"categories\",\n",
    "                 meta = [\"fundID\", 'firstName', 'lastName', 'under_investigation'])"
   ]
  },
  {
   "cell_type": "code",
   "execution_count": null,
   "metadata": {},
   "outputs": [],
   "source": []
  },
  {
   "cell_type": "code",
   "execution_count": null,
   "metadata": {},
   "outputs": [],
   "source": []
  },
  {
   "cell_type": "markdown",
   "metadata": {
    "id": "Cm_q7LYLA2rO"
   },
   "source": [
    "## ```json_normalize()``` with ```record_path``` parameter\n",
    "\n",
    "A record path taps a level of the nested data\n",
    "\n",
    "####  Single path syntax:\n",
    "\n",
    "###### ```pd.json_normalize(list or dictionary, record_path = \"single_path\")```\n",
    "\n",
    "#### Multiple paths syntax:\n",
    "\n",
    "###### ```pd.json_normalize(list or dictionary, record_path = [\"first_path\", \"second_path\"])```"
   ]
  },
  {
   "cell_type": "code",
   "execution_count": null,
   "metadata": {
    "id": "IeCKO4kMA2rO"
   },
   "outputs": [],
   "source": [
    "## provide record path to gun-data\n"
   ]
  },
  {
   "cell_type": "code",
   "execution_count": null,
   "metadata": {
    "id": "yyRsecu3A2rO"
   },
   "outputs": [],
   "source": [
    "## load into python readable container\n"
   ]
  },
  {
   "cell_type": "code",
   "execution_count": null,
   "metadata": {
    "id": "1VqbwvBFA2rO"
   },
   "outputs": [],
   "source": [
    "## basic normalize\n"
   ]
  },
  {
   "cell_type": "markdown",
   "metadata": {
    "id": "0GsMZ57HA2rO"
   },
   "source": [
    "## ```json_normalize()``` with ```record_path``` and ```meta``` parameters\n",
    "\n",
    "- ```record_path``` taps a level of the nested data\n",
    "\n",
    "- ```meta``` designates the fields to use as meta data\n",
    "\n",
    "####  Syntax:\n",
    "\n",
    " ```pd.json_normalize(list or dictionary, record_path = \"single_path\", meta = [list of meta data items])```\n"
   ]
  },
  {
   "cell_type": "code",
   "execution_count": null,
   "metadata": {
    "id": "ksNxMathA2rO"
   },
   "outputs": [],
   "source": [
    "## add single meta data\n",
    "\n"
   ]
  },
  {
   "cell_type": "code",
   "execution_count": null,
   "metadata": {
    "id": "n_WZwM4iA2rO"
   },
   "outputs": [],
   "source": [
    "## add multiple meta data\n"
   ]
  },
  {
   "cell_type": "markdown",
   "metadata": {
    "id": "pqT572BBA2rO"
   },
   "source": [
    "## Multiple nested data"
   ]
  },
  {
   "cell_type": "code",
   "execution_count": null,
   "metadata": {
    "id": "DeFbvaEYA2rO"
   },
   "outputs": [],
   "source": [
    "data = [\n",
    "\n",
    "\t{\n",
    "\t\t\"kingdom\": \"Animalia\",\n",
    "\t\t\"class\": \"Mammalia\",\n",
    "\t\t\"species\": [{\n",
    "\t\t\t\"scientific_name\": \"Canis Lupus\",\n",
    "\t\t\t\"common_name\": \"Gray Wolf\",\n",
    "\t\t\t\"relations\": [{\n",
    "\t\t\t\t\"domesticated\": False,\n",
    "\t\t\t\t\"social\": True\n",
    "\t\t\t}]\n",
    "\t\t}]\n",
    "\t},\n",
    "\t{\n",
    "\t\t\"kingdom\": \"Animalia\",\n",
    "\t\t\"class\": \"Mammalia\",\n",
    "\t\t\"species\": [{\n",
    "\t\t\t\"scientific_name\": \"Panthera Leo\",\n",
    "\t\t\t\"common_name\": \"Lion\",\n",
    "\t\t\t\"relations\": [{\n",
    "\t\t\t\t\"domesticated\": False,\n",
    "\t\t\t\t\"social\": True\n",
    "\t\t\t}]\n",
    "\t\t}]\n",
    "\t},\n",
    "\n",
    "\t{\n",
    "\t\t\"kingdom\": \"Animalia\",\n",
    "\t\t\"class\": \"Mammalia\",\n",
    "\t\t\"species\": [{\n",
    "\t\t\t\"scientific_name\": \"Panthera Tigris\",\n",
    "\t\t\t\"common_name\": \"Tiger\",\n",
    "\t\t\t\"relations\": [{\n",
    "\t\t\t\t\"domesticated\": False,\n",
    "\t\t\t\t\"social\": False\n",
    "\t\t\t}]\n",
    "\t\t}]\n",
    "\t},\n",
    "\n",
    "\t{\n",
    "\t\t\"kingdom\": \"Animalia\",\n",
    "\t\t\"class\": \"Mammalia\",\n",
    "\t\t\"species\": [{\n",
    "\t\t\t\"scientific_name\": \"Equus ferus\",\n",
    "\t\t\t\"common_name\": \"Horse\",\n",
    "\t\t\t\"relations\": [{\n",
    "\t\t\t\t\"domesticated\": True,\n",
    "\t\t\t\t\"social\": True\n",
    "\t\t\t}]\n",
    "\t\t}]\n",
    "\t}\n",
    "]"
   ]
  },
  {
   "cell_type": "code",
   "execution_count": null,
   "metadata": {
    "id": "253hfUWiA2rO"
   },
   "outputs": [],
   "source": [
    "## get top keys\n"
   ]
  },
  {
   "cell_type": "code",
   "execution_count": null,
   "metadata": {
    "id": "DqQdr6aOA2rO"
   },
   "outputs": [],
   "source": [
    "## what type of data\n"
   ]
  },
  {
   "cell_type": "code",
   "execution_count": null,
   "metadata": {
    "id": "mDDhgt7YA2rP"
   },
   "outputs": [],
   "source": [
    "## in the first dict, tap species to see what that key holds\n"
   ]
  },
  {
   "cell_type": "code",
   "execution_count": null,
   "metadata": {
    "id": "YukmkpsKA2rP"
   },
   "outputs": [],
   "source": [
    "## find the kesy within species\n"
   ]
  },
  {
   "cell_type": "code",
   "execution_count": null,
   "metadata": {
    "id": "1pUETM8NA2rP"
   },
   "outputs": [],
   "source": [
    "## dig deeper to find what relations holds\n"
   ]
  },
  {
   "cell_type": "code",
   "execution_count": null,
   "metadata": {
    "id": "0ZrjNwoxA2rP"
   },
   "outputs": [],
   "source": [
    "## what happens if we straight up normalize\n"
   ]
  },
  {
   "cell_type": "code",
   "execution_count": null,
   "metadata": {
    "id": "2S1UGtz-A2rP"
   },
   "outputs": [],
   "source": [
    "## provide record_paths\n"
   ]
  },
  {
   "cell_type": "code",
   "execution_count": null,
   "metadata": {
    "id": "QpIcKUyTA2rP"
   },
   "outputs": [],
   "source": [
    "## pass meta data to it\n"
   ]
  },
  {
   "cell_type": "markdown",
   "metadata": {
    "id": "fOY_fQZIA2rP"
   },
   "source": [
    "### Super deeply nested data"
   ]
  },
  {
   "cell_type": "code",
   "execution_count": null,
   "metadata": {
    "id": "LwCsZU_NA2rP"
   },
   "outputs": [],
   "source": [
    "## add another layer\n",
    "## note that within species, there are now two lists of dicts\n",
    "\n",
    "data = [\n",
    "\n",
    "\t{\n",
    "\t\t\"kingdom\": \"Animalia\",\n",
    "\t\t\"class\": \"Mammalia\",\n",
    "\t\t\"species\": [{\n",
    "\t\t\t\"scientific_name\": \"Canis Lupus\",\n",
    "\t\t\t\"common_name\": \"Gray Wolf\",\n",
    "\t\t\t\"relations\": [{\n",
    "\t\t\t\t\"domesticated\": False,\n",
    "\t\t\t\t\"social\": True\n",
    "\t\t\t}],\n",
    "\t\t\t\"characteristics\": [{\n",
    "\t\t\t\t\"color\": \"Gray\",\n",
    "\t\t\t\t\"carnivore\": True\n",
    "\t\t\t}]\n",
    "\t\t}]\n",
    "\t},\n",
    "\t{\n",
    "\t\t\"kingdom\": \"Animalia\",\n",
    "\t\t\"class\": \"Mammalia\",\n",
    "\t\t\"species\": [{\n",
    "\t\t\t\"scientific_name\": \"Panthera Leo\",\n",
    "\t\t\t\"common_name\": \"Lion\",\n",
    "\t\t\t\"relations\": [{\n",
    "\t\t\t\t\"domesticated\": False,\n",
    "\t\t\t\t\"social\": True\n",
    "\t\t\t}],\n",
    "\t\t\t\"characteristics\": [{\n",
    "\t\t\t\t\"color\": \"Yellow\",\n",
    "\t\t\t\t\"carnivore\": True\n",
    "\t\t\t}]\n",
    "\t\t}]\n",
    "\t},\n",
    "\n",
    "\t{\n",
    "\t\t\"kingdom\": \"Animalia\",\n",
    "\t\t\"class\": \"Mammalia\",\n",
    "\t\t\"species\": [{\n",
    "\t\t\t\"scientific_name\": \"Panthera Tigris\",\n",
    "\t\t\t\"common_name\": \"Tiger\",\n",
    "\t\t\t\"relations\": [{\n",
    "\t\t\t\t\"domesticated\": False,\n",
    "\t\t\t\t\"social\": False\n",
    "\t\t\t}],\n",
    "\t\t\t\"characteristics\": [{\n",
    "\t\t\t\t\"color\": \"Striped\",\n",
    "\t\t\t\t\"carnivore\": True\n",
    "\t\t\t}]\n",
    "\t\t}]\n",
    "\t},\n",
    "\n",
    "\t{\n",
    "\t\t\"kingdom\": \"Animalia\",\n",
    "\t\t\"class\": \"Mammalia\",\n",
    "\t\t\"species\": [{\n",
    "\t\t\t\"scientific_name\": \"Equus Ferus\",\n",
    "\t\t\t\"common_name\": \"Horse\",\n",
    "\t\t\t\"relations\": [{\n",
    "\t\t\t\t\"domesticated\": True,\n",
    "\t\t\t\t\"social\": True\n",
    "\t\t\t}],\n",
    "\t\t\t\"characteristics\": [{\n",
    "\t\t\t\t\"color\": \"Multiple\",\n",
    "\t\t\t\t\"carnivore\": False\n",
    "\t\t\t}]\n",
    "\t\t}]\n",
    "\t}\n",
    "]"
   ]
  },
  {
   "cell_type": "code",
   "execution_count": null,
   "metadata": {
    "id": "7AFUoKetA2rP"
   },
   "outputs": [],
   "source": [
    "## run json normalize on species\n"
   ]
  },
  {
   "cell_type": "code",
   "execution_count": null,
   "metadata": {
    "id": "hsGb1yYeA2rP"
   },
   "outputs": [],
   "source": [
    "## provide species and relations as record_path\n"
   ]
  },
  {
   "cell_type": "code",
   "execution_count": null,
   "metadata": {
    "id": "GXvJigniA2rP"
   },
   "outputs": [],
   "source": [
    "## provide add characteristics to the record_path\n",
    "## WILL BREAK!\n"
   ]
  },
  {
   "cell_type": "code",
   "execution_count": null,
   "metadata": {
    "id": "H0NcVohJA2rP"
   },
   "outputs": [],
   "source": [
    "## ## provide species and characteristics as record_path\n"
   ]
  },
  {
   "cell_type": "markdown",
   "metadata": {
    "id": "QhR3z5k2A2rP"
   },
   "source": [
    "## The limitations of ```json_normalize()```\n",
    "\n",
    "The reality is that ```JSON``` is far to versatile and flexible for ```json_normalize()``` to work in every situation. ```json_normalize()``` is just NOT a universal parser and won't work in one go for every complex situation.\n",
    "\n",
    "Our approach: create two data frames and merge them on a common column."
   ]
  },
  {
   "cell_type": "code",
   "execution_count": null,
   "metadata": {
    "id": "eVqNAOuBA2rP"
   },
   "outputs": [],
   "source": [
    "## create a df for characteristics\n"
   ]
  },
  {
   "cell_type": "code",
   "execution_count": null,
   "metadata": {
    "id": "8ur3cIF2A2rP"
   },
   "outputs": [],
   "source": [
    "## create a df for relations\n",
    "## note we need few meta data, just enough to find a common colum.\n"
   ]
  },
  {
   "cell_type": "code",
   "execution_count": null,
   "metadata": {
    "id": "7PpEi06yA2rP"
   },
   "outputs": [],
   "source": [
    "## merge the two\n"
   ]
  },
  {
   "cell_type": "markdown",
   "metadata": {
    "id": "pa58hK21A2rP"
   },
   "source": [
    "### Global Covid Data (Nested Json from url)"
   ]
  },
  {
   "cell_type": "code",
   "execution_count": null,
   "metadata": {
    "id": "nAGIpg1SA2rP"
   },
   "outputs": [],
   "source": [
    "## request data\n",
    "url = \"https://epicovcharts.bii.a-star.edu.sg/variants-dashboard/data/variants_countries_count.json\"\n"
   ]
  },
  {
   "cell_type": "code",
   "execution_count": null,
   "metadata": {
    "id": "Gol-GOBwA2rP"
   },
   "outputs": [],
   "source": [
    "## load json\n"
   ]
  },
  {
   "cell_type": "code",
   "execution_count": null,
   "metadata": {
    "id": "sUVwi8D4A2rP"
   },
   "outputs": [],
   "source": [
    "## call data\n"
   ]
  },
  {
   "cell_type": "code",
   "execution_count": null,
   "metadata": {
    "id": "xcyc3ttGA2rP"
   },
   "outputs": [],
   "source": [
    "## get our bearings\n"
   ]
  },
  {
   "cell_type": "code",
   "execution_count": null,
   "metadata": {
    "id": "AJF51VkJA2rP"
   },
   "outputs": [],
   "source": [
    "## get our bearings\n"
   ]
  },
  {
   "cell_type": "code",
   "execution_count": null,
   "metadata": {
    "id": "3p1eVvaPA2rP"
   },
   "outputs": [],
   "source": [
    "## get our bearings\n"
   ]
  },
  {
   "cell_type": "code",
   "execution_count": null,
   "metadata": {
    "id": "6uag7rn7A2rQ"
   },
   "outputs": [],
   "source": [
    "## flatten json into df\n"
   ]
  },
  {
   "cell_type": "markdown",
   "metadata": {
    "id": "ImrBZNdTASB0"
   },
   "source": [
    "## AP Election Data\n",
    "\n",
    "The Associated Press election feed provides wickedly nested election data.\n",
    "\n",
    "[Download an excerpt](https://raw.githubusercontent.com/sandeepmj/datasets/main/va-election-AP.json) and flatten all nested elements.\n",
    "\n",
    "At Bloomberg, we flattened this data using the techiques covered in this course.\n",
    "\n"
   ]
  },
  {
   "cell_type": "code",
   "execution_count": null,
   "metadata": {
    "id": "ppBT-d7vJbf4"
   },
   "outputs": [],
   "source": [
    "## create more cells as necessary"
   ]
  }
 ],
 "metadata": {
  "colab": {
   "provenance": []
  },
  "kernelspec": {
   "display_name": "Python 3 (ipykernel)",
   "language": "python",
   "name": "python3"
  },
  "language_info": {
   "codemirror_mode": {
    "name": "ipython",
    "version": 3
   },
   "file_extension": ".py",
   "mimetype": "text/x-python",
   "name": "python",
   "nbconvert_exporter": "python",
   "pygments_lexer": "ipython3",
   "version": "3.9.13"
  }
 },
 "nbformat": 4,
 "nbformat_minor": 1
}
